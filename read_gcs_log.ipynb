{
  "nbformat": 4,
  "nbformat_minor": 0,
  "metadata": {
    "colab": {
      "provenance": [],
      "authorship_tag": "ABX9TyPvtj7URTV4v9A1YyekpRP8",
      "include_colab_link": true
    },
    "kernelspec": {
      "name": "python3",
      "display_name": "Python 3"
    },
    "language_info": {
      "name": "python"
    }
  },
  "cells": [
    {
      "cell_type": "markdown",
      "metadata": {
        "id": "view-in-github",
        "colab_type": "text"
      },
      "source": [
        "<a href=\"https://colab.research.google.com/github/dudio/dudio.github.io/blob/master/read_gcs_log.ipynb\" target=\"_parent\"><img src=\"https://colab.research.google.com/assets/colab-badge.svg\" alt=\"Open In Colab\"/></a>"
      ]
    },
    {
      "cell_type": "code",
      "source": [
        "import json"
      ],
      "metadata": {
        "id": "pNnI4mbhBxIg"
      },
      "execution_count": null,
      "outputs": []
    },
    {
      "cell_type": "code",
      "execution_count": null,
      "metadata": {
        "id": "WXv4xPfN6HRH"
      },
      "outputs": [],
      "source": [
        "with open(\"apid_recomd_log.log\", \"r\") as f:\n",
        "  lines = f.readlines()\n",
        "  a = 0\n",
        "  b = 0\n",
        "  st = {}\n",
        "  has_good = 0\n",
        "  no_good = 0\n",
        "  for line in lines:\n",
        "    parts = line.split(\"\\t\")\n",
        "    json_obj = json.loads(parts[2])\n",
        "    json_obj_len = len(json_obj)\n",
        "    if json_obj_len != 6:\n",
        "      a += 1\n",
        "      # print(json_obj_len)\n",
        "    # else:\n",
        "    #   print(json_obj)\n",
        "    #   break\n",
        "    b += 1\n",
        "    if \"referrer\" in json_obj:\n",
        "      if json_obj[\"referrer\"] is not None:\n",
        "        if len(json_obj[\"referrer\"].split(\"goodsCode\")) == 2:\n",
        "          has_good += 1\n",
        "          if (\"action\" in json_obj):\n",
        "            va = json_obj[\"action\"]\n",
        "            # if va != \"pageload\":\n",
        "            #   print(va)\n",
        "            #   print(json_obj[\"referrer\"])\n",
        "        else:\n",
        "          no_good += 1\n",
        "          # print(json_obj[\"referrer\"])\n",
        "          # print(json_obj)\n",
        "          # break\n",
        "    if (\"action\" in json_obj):\n",
        "      va = json_obj[\"action\"]\n",
        "      if va in st:\n",
        "        st[va] += 1\n",
        "      else:\n",
        "        st[va] = 1\n",
        "      if va != 'pageload':\n",
        "        print(json_obj)\n",
        "    # print(json_obj_len)\n",
        "    # break\n",
        "  print(a)\n",
        "  print(b)\n",
        "  print(st)\n",
        "  print(has_good)\n",
        "  print(no_good)\n"
      ]
    },
    {
      "cell_type": "code",
      "source": [],
      "metadata": {
        "id": "RNdZrR4--Eko"
      },
      "execution_count": null,
      "outputs": []
    }
  ]
}