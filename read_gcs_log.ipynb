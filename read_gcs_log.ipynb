{
  "nbformat": 4,
  "nbformat_minor": 0,
  "metadata": {
    "colab": {
      "provenance": [],
      "authorship_tag": "ABX9TyOgMquxq8KhVNvztJHIpFE3",
      "include_colab_link": true
    },
    "kernelspec": {
      "name": "python3",
      "display_name": "Python 3"
    },
    "language_info": {
      "name": "python"
    }
  },
  "cells": [
    {
      "cell_type": "markdown",
      "metadata": {
        "id": "view-in-github",
        "colab_type": "text"
      },
      "source": [
        "<a href=\"https://colab.research.google.com/github/dudio/dudio.github.io/blob/master/read_gcs_log.ipynb\" target=\"_parent\"><img src=\"https://colab.research.google.com/assets/colab-badge.svg\" alt=\"Open In Colab\"/></a>"
      ]
    },
    {
      "cell_type": "code",
      "source": [
        "import json"
      ],
      "metadata": {
        "id": "pNnI4mbhBxIg"
      },
      "execution_count": null,
      "outputs": []
    },
    {
      "cell_type": "code",
      "execution_count": null,
      "metadata": {
        "id": "WXv4xPfN6HRH"
      },
      "outputs": [],
      "source": [
        "with open(\"apid_recomd_log.log\", \"r\") as f:\n",
        "  lines = f.readlines()\n",
        "  a = 0 # 加車購買筆數\n",
        "  b = 0 # 資料筆數\n",
        "  st = {}\n",
        "  has_good = 0\n",
        "  no_good = 0\n",
        "  for line in lines:\n",
        "    parts = line.split(\"\\t\")\n",
        "    json_obj = json.loads(parts[2])\n",
        "    json_obj_len = len(json_obj)\n",
        "    # 等於 6 的是 pageload，其他的是加車跟購買\n",
        "    if json_obj_len != 6:\n",
        "      a += 1\n",
        "      # print(json_obj_len)\n",
        "    # else:\n",
        "    #   print(json_obj)\n",
        "    #   break\n",
        "    b += 1\n",
        "\n",
        "    # 只有pageload 才有 referrer\n",
        "    if \"referrer\" in json_obj:\n",
        "      if json_obj[\"referrer\"] is not None:\n",
        "        if len(json_obj[\"referrer\"].split(\"goodsCode\")) == 2:\n",
        "          has_good += 1\n",
        "          if (\"action\" in json_obj):\n",
        "            va = json_obj[\"action\"]\n",
        "            # if va != \"pageload\":\n",
        "            #   print(va)\n",
        "            #   print(json_obj[\"referrer\"])\n",
        "        else:\n",
        "          no_good += 1\n",
        "          # print(json_obj[\"referrer\"])\n",
        "          # print(json_obj)\n",
        "          # break\n",
        "    if (\"action\" in json_obj):\n",
        "      va = json_obj[\"action\"]\n",
        "      if va in st:\n",
        "        st[va] += 1\n",
        "      else:\n",
        "        st[va] = 1\n",
        "      #----------------------------------\n",
        "      # target = 'cartload' # cartload / checkout\n",
        "      # if va == target:\n",
        "      #   print(json_obj)\n",
        "      #   logbody = json.loads(json_obj['logbody'])\n",
        "      #   target_obj = json.loads(logbody[target][0])\n",
        "      #   # 需求欄位\n",
        "      #   print(f\"---uid={target_obj['uid']}---\") # 用戶id\n",
        "      #   # 商品清單\n",
        "      #   ilist = target_obj['trans_i']['ilist']\n",
        "      #   for item in ilist:\n",
        "      #     print(f\"- id={item['id']} -\")\n",
        "      #     if 'goodsdt_code' in item:\n",
        "      #       print(f\"goodsdt_code={item['goodsdt_code']}\")\n",
        "      #     if 'set_goods_code' in item:\n",
        "      #       print(f\"set_goods_code={item['set_goods_code']}\")\n",
        "      #   # break\n",
        "      #----------------------------------\n",
        "      target = 'pageload' # pageload\n",
        "      if va == target:\n",
        "        logbody = json.loads(json_obj['logbody'])\n",
        "        target_obj = json.loads(logbody[target][0])\n",
        "        # print(target_obj)\n",
        "        # # 需求欄位\n",
        "        uid = target_obj['uid']\n",
        "        if uid != '':\n",
        "          continue\n",
        "        print(f\"---uid={uid}---\") # 用戶id\n",
        "        print(json_obj['referrer']) # 商品id 可能放在 goodsCode 或 i_code\n",
        "\n",
        "    # print(json_obj_len)\n",
        "    # break\n",
        "\n",
        "\n",
        "  # print(a)\n",
        "  # print(b)\n",
        "  # print(st)\n",
        "  # print(has_good)\n",
        "  # print(no_good)\n"
      ]
    },
    {
      "cell_type": "code",
      "source": [],
      "metadata": {
        "id": "RNdZrR4--Eko"
      },
      "execution_count": null,
      "outputs": []
    }
  ]
}